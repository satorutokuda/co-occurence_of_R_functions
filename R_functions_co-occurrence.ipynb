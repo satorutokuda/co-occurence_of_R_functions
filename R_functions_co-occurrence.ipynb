{
 "cells": [
  {
   "cell_type": "markdown",
   "metadata": {},
   "source": [
    "# Network Graph of Co-Occurence of R Functions\n",
    "\n",
    "Oct. 16., 2017\n",
    "\n",
    "\n",
    "### Summary \n",
    "Shows co-occurence of R functions in a network graph, <br>\n",
    "using the data of Top 500 R pages in stackoverflow.com <br>",
    "<br>",
    "# R関数の共起性グラフ\n",
    "2017年10月16日\n",
    "\n",
    "\n",
    "### 概要\n",
    "RのBase関数約500個で同時に使われる組合せを視覚化。 <br>\n",
    "同時に使われるデータとしてStackOverFlowのRの人気ページのトップ500を借用。 <br>\n",
    "\n"
   ]
  },
  {
   "cell_type": "code",
   "execution_count": null,
   "metadata": {
    "collapsed": true
   },
   "outputs": [],
   "source": [
    "# web scraping\n",
    "# satoru tokuda\n",
    "# 2017 Oct 13\n",
    "\n",
    "#===========\n",
    "# Goal (1)\n",
    "# Draw a network graph of R functions (package base)\n",
    "# to see the relationship of the reserved words\n",
    "\n",
    "# Goal (2)\n",
    "# categorize R snippets, so that\n",
    "# (a) DS members can learn how R snippets are clustered,\n",
    "# (b) DS members can categorize new R snippets\n",
    "\n",
    "#===========\n",
    "# Definition\n",
    "# \"a listing page\" is a web page that lists a series of web pages.\n",
    "# \"an asking page\" is a web page where someone asks a question."
   ]
  },
  {
   "cell_type": "code",
   "execution_count": 1,
   "metadata": {
    "collapsed": false
   },
   "outputs": [
    {
     "name": "stderr",
     "output_type": "stream",
     "text": [
      "Warning message:\n",
      "\"package 'rvest' was built under R version 3.3.3\"Loading required package: xml2\n",
      "Warning message:\n",
      "\"package 'xml2' was built under R version 3.3.3\"Warning message:\n",
      "\"package 'reshape2' was built under R version 3.3.3\"Warning message:\n",
      "\"package 'igraph' was built under R version 3.3.3\"\n",
      "Attaching package: 'igraph'\n",
      "\n",
      "The following objects are masked from 'package:stats':\n",
      "\n",
      "    decompose, spectrum\n",
      "\n",
      "The following object is masked from 'package:base':\n",
      "\n",
      "    union\n",
      "\n",
      "Warning message:\n",
      "\"package 'dplyr' was built under R version 3.3.3\"Warning message:\n",
      "\"Installed Rcpp (0.12.8) different from Rcpp used to build dplyr (0.12.11).\n",
      "Please reinstall dplyr to avoid random crashes or undefined behavior.\"\n",
      "Attaching package: 'dplyr'\n",
      "\n",
      "The following objects are masked from 'package:igraph':\n",
      "\n",
      "    as_data_frame, groups, union\n",
      "\n",
      "The following object is masked from 'package:MASS':\n",
      "\n",
      "    select\n",
      "\n",
      "The following objects are masked from 'package:stats':\n",
      "\n",
      "    filter, lag\n",
      "\n",
      "The following objects are masked from 'package:base':\n",
      "\n",
      "    intersect, setdiff, setequal, union\n",
      "\n"
     ]
    }
   ],
   "source": [
    "# ---------\n",
    "# Part 1\n",
    "# Install and load library\n",
    "  if(!(\"rvest\"    %in% installed.packages()[,\"Package\"])) install.packages(\"rvest\")\n",
    "  if(!(\"reshape2\" %in% installed.packages()[,\"Package\"])) install.packages(\"reshape2\")\n",
    "  if(!(\"igraph\"   %in% installed.packages()[,\"Package\"])) install.packages(\"igraph\")\n",
    "  if(!(\"dplyr\"    %in% installed.packages()[,\"Package\"])) install.packages(\"dplyr\")\n",
    "  if(0){  detach(\"package:XML\", unload=TRUE) }\n",
    "  library(rvest)\n",
    "  library(reshape2)\n",
    "  library(MASS)\n",
    "  library(igraph)\n",
    "  library(dplyr)"
   ]
  },
  {
   "cell_type": "code",
   "execution_count": 2,
   "metadata": {
    "collapsed": false
   },
   "outputs": [
    {
     "data": {
      "text/html": [
       "1207"
      ],
      "text/latex": [
       "1207"
      ],
      "text/markdown": [
       "1207"
      ],
      "text/plain": [
       "[1] 1207"
      ]
     },
     "metadata": {},
     "output_type": "display_data"
    },
    {
     "data": {
      "text/html": [
       "548"
      ],
      "text/latex": [
       "548"
      ],
      "text/markdown": [
       "548"
      ],
      "text/plain": [
       "[1] 548"
      ]
     },
     "metadata": {},
     "output_type": "display_data"
    }
   ],
   "source": [
    "# ---------\n",
    "# Part 2\n",
    "# get R reserved words\n",
    "  reservedWords = as.character(lsf.str(\"package:base\")) # get all function names\n",
    "  length(reservedWords) # [1] 1207 words\n",
    "  reservedWords = reservedWords[ grepl(pattern = '[^[:alnum:]]', reservedWords) ==FALSE] # limit to alphabet only\n",
    "  # remove some words (either ambiguous with English or too common)\n",
    "  reservedWords = reservedWords[!reservedWords %in% c(\"c\", \"I\", \"as\", \"by\", \"is\", \"var\", \"if\", \"for\",\n",
    "                                                      \"with\", \"function\", \"return\", \"library\",\n",
    "                                                      \"require\")]\n",
    "  reservedWords = unique(reservedWords) # remove duplicated if any\n",
    "  length(reservedWords) # [1] 550 words\n"
   ]
  },
  {
   "cell_type": "code",
   "execution_count": 5,
   "metadata": {
    "collapsed": false
   },
   "outputs": [
    {
     "data": {
      "text/html": [
       "TRUE"
      ],
      "text/latex": [
       "TRUE"
      ],
      "text/markdown": [
       "TRUE"
      ],
      "text/plain": [
       "[1] TRUE"
      ]
     },
     "metadata": {},
     "output_type": "display_data"
    },
    {
     "data": {
      "text/html": [
       "TRUE"
      ],
      "text/latex": [
       "TRUE"
      ],
      "text/markdown": [
       "TRUE"
      ],
      "text/plain": [
       "[1] TRUE"
      ]
     },
     "metadata": {},
     "output_type": "display_data"
    },
    {
     "name": "stdout",
     "output_type": "stream",
     "text": [
      "[1] \"Downloading HTML file 1 from the net out of 10 done\"\n",
      "[1] \"Downloading HTML file 2 from the net out of 10 done\"\n",
      "[1] \"Downloading HTML file 3 from the net out of 10 done\"\n",
      "[1] \"Downloading HTML file 4 from the net out of 10 done\"\n",
      "[1] \"Downloading HTML file 5 from the net out of 10 done\"\n",
      "[1] \"Downloading HTML file 6 from the net out of 10 done\"\n",
      "[1] \"Downloading HTML file 7 from the net out of 10 done\"\n",
      "[1] \"Downloading HTML file 8 from the net out of 10 done\"\n",
      "[1] \"Downloading HTML file 9 from the net out of 10 done\"\n",
      "[1] \"Downloading HTML file 10 from the net out of 10 done\"\n"
     ]
    }
   ],
   "source": [
    "\n",
    "# ---------\n",
    "# Part 3\n",
    "# Download URL Listing page HTML from StackOverFlow site \n",
    "  charListingUrl = vector(mode = \"character\", length = 0)\n",
    "  lsListingHtml = list()\n",
    "  maxFile = 10 # the max number of the listing pages to download. Each listing page contains 50 URLs.\n",
    "  charListingUrl[1] = \"https://stackoverflow.com/questions/tagged/r?sort=frequent&pageSize=50\" # Page 1\n",
    "  charListingUrl[2:maxFile] = paste0(\"https://stackoverflow.com/questions/tagged/r?page=\", seq(2,maxFile), \"&sort=frequent&pagesize=50\") # Page 2\n",
    "  \n",
    "  # create dir if not exists\n",
    "  dirSub1 = \"html\"\n",
    "  ifelse(dir.exists(dirSub1), 1, dir.create(dirSub1) ) \n",
    "  dirSub2 = \"html/htmlUrlList\"\n",
    "  ifelse(dir.exists(dirSub2), 1, dir.create(dirSub2) ) \n",
    "\n",
    "  for(fCt in 1:maxFile){\n",
    "    charListingUrlNoPunct = gsub(pattern = \"[:/?.&=]\", replacement = \"_\", charListingUrl[fCt])\n",
    "    charListingFilePathNoPunct =  paste0(\"html/htmlUrlList/\", charListingUrlNoPunct, \".html\") \n",
    "    if(file.exists(charListingFilePathNoPunct)){ # download HTML if not exists in local\n",
    "      lsListingHtml[[fCt]] = read_html(charListingFilePathNoPunct) # Load HTML info from Local folder\n",
    "    }else{\n",
    "      lsListingHtml[[fCt]] = read_html(charListingUrl[fCt]) #  Load HTML from internet\n",
    "      charUrlPageList = as(lsListingHtml[[fCt]], \"character\") # convert into char before storing\n",
    "      write(x = charUrlPageList, file = charListingFilePathNoPunct )#  store HTML as character\n",
    "      Sys.sleep(0.01); print(paste0(\"Downloading HTML file \", fCt, \" from the net out of \", maxFile, \" done\") )\n",
    "    }\n",
    "  }\n"
   ]
  },
  {
   "cell_type": "code",
   "execution_count": 15,
   "metadata": {
    "collapsed": false
   },
   "outputs": [
    {
     "name": "stdout",
     "output_type": "stream",
     "text": [
      "[1] \" 53  Asking pages found in this Listing Page.\"\n",
      "[1] \" 53  Asking pages found in this Listing Page.\"\n",
      "[1] \" 53  Asking pages found in this Listing Page.\"\n",
      "[1] \" 53  Asking pages found in this Listing Page.\"\n",
      "[1] \" 53  Asking pages found in this Listing Page.\"\n",
      "[1] \" 53  Asking pages found in this Listing Page.\"\n",
      "[1] \" 53  Asking pages found in this Listing Page.\"\n",
      "[1] \" 53  Asking pages found in this Listing Page.\"\n",
      "[1] \" 53  Asking pages found in this Listing Page.\"\n",
      "[1] \" 53  Asking pages found in this Listing Page.\"\n"
     ]
    },
    {
     "data": {
      "text/html": [
       "TRUE"
      ],
      "text/latex": [
       "TRUE"
      ],
      "text/markdown": [
       "TRUE"
      ],
      "text/plain": [
       "[1] TRUE"
      ]
     },
     "metadata": {},
     "output_type": "display_data"
    }
   ],
   "source": [
    "# ---------\n",
    "# Part 4\n",
    "# Get 50 URLs from each listing page\n",
    "  urlStack = NULL\n",
    "  fun_strsplit_return_first = function(askingPageUrl){  # small function to return the first element\n",
    "    outSplit = strsplit(x = as.character(askingPageUrl), split = \"\\\" class=\") # separate by the pattern\n",
    "    return(outSplit[[1]][1]) # then return only the first element after separation\n",
    "  }  \n",
    "  \n",
    "  for(listingCt in 1:maxFile){\n",
    "    askingPageUrl = html_nodes(lsListingHtml[[listingCt]], \"h3\") # find \"h3\" in the HTML script\n",
    "    Sys.sleep(0.01); print(paste(\"\", length(askingPageUrl), \" Asking pages found in this Listing Page.\") )\n",
    "    askingPageUrl = askingPageUrl[grepl(pattern = '<h3><a href=\"/questions/', askingPageUrl) == TRUE] # limit to data that contains \"questions\"\n",
    "    askingPageUrl = lapply(X = askingPageUrl, FUN = fun_strsplit_return_first)\n",
    "    askingPageUrl = unlist(askingPageUrl)\n",
    "    # replace with www\n",
    "    askingPageUrl = gsub(pattern = \"<h3><a href=\\\"/\", replacement = \"https://stackoverflow.com/\", x = askingPageUrl)\n",
    "    askingPageUrl = gsub(pattern = \"\\\\?</a></h3>\", replacement = \"\", x = askingPageUrl)\n",
    "    urlStack = c(urlStack, askingPageUrl)\n",
    "  }\n",
    "\n",
    "  # create dir if not exists\n",
    "  dirSub1 = \"output\"\n",
    "  ifelse(dir.exists(dirSub1), 1, dir.create(dirSub1) ) \n",
    "  write.csv(urlStack, paste0(dirSub1, \"/URL_Top500_R_pages_in_stackoverflow.csv\"))\n",
    "\n"
   ]
  },
  {
   "cell_type": "code",
   "execution_count": 8,
   "metadata": {
    "collapsed": false
   },
   "outputs": [
    {
     "data": {
      "text/html": [
       "TRUE"
      ],
      "text/latex": [
       "TRUE"
      ],
      "text/markdown": [
       "TRUE"
      ],
      "text/plain": [
       "[1] TRUE"
      ]
     },
     "metadata": {},
     "output_type": "display_data"
    },
    {
     "name": "stdout",
     "output_type": "stream",
     "text": [
      "[1] \"https://stackoverflow.com/questions/5963269/how-to-make-a-great-r-reproducible-example\"\n",
      "[1] \"Downloading HTML file 1 from the net out of 500 done\"\n",
      "[1] \"https://stackoverflow.com/questions/27721008/how-do-i-deal-with-special-characters-like-in-my-regex\"\n",
      "[1] \"Downloading HTML file 50 from the net out of 500 done\"\n",
      "[1] \"https://stackoverflow.com/questions/26291988/how-to-create-a-lag-variable-within-each-group\"\n",
      "[1] \"Downloading HTML file 100 from the net out of 500 done\"\n",
      "[1] \"https://stackoverflow.com/questions/6919025/how-to-assign-colors-to-categorical-variables-in-ggplot2-that-have-stable-mappin\"\n",
      "[1] \"Downloading HTML file 150 from the net out of 500 done\"\n",
      "[1] \"https://stackoverflow.com/questions/22756372/collapse-text-by-group-in-data-frame\"\n",
      "[1] \"Downloading HTML file 200 from the net out of 500 done\"\n",
      "[1] \"https://stackoverflow.com/questions/4951442/formula-with-dynamic-number-of-variables\"\n",
      "[1] \"Downloading HTML file 250 from the net out of 500 done\"\n",
      "[1] \"https://stackoverflow.com/questions/14570293/special-variables-in-ggplot-count-density-etc\"\n",
      "[1] \"Downloading HTML file 300 from the net out of 500 done\"\n",
      "[1] \"https://stackoverflow.com/questions/102056/how-to-search-for-r-materials\"\n",
      "[1] \"Downloading HTML file 350 from the net out of 500 done\"\n",
      "[1] \"https://stackoverflow.com/questions/2470248/write-lines-of-text-to-a-file-in-r\"\n",
      "[1] \"Downloading HTML file 400 from the net out of 500 done\"\n",
      "[1] \"https://stackoverflow.com/questions/26308072/operator-inconsistent-in-logical-columns-in-data-table\"\n",
      "[1] \"Downloading HTML file 450 from the net out of 500 done\"\n",
      "[1] \"https://stackoverflow.com/questions/25960394/spread-with-data-frame-tibble-with-duplicate-identifiers\"\n",
      "[1] \"Downloading HTML file 500 from the net out of 500 done\"\n"
     ]
    }
   ],
   "source": [
    "# Note. Running this section took me 21 minutes. Be patient.\n",
    "\n",
    "# ---------\n",
    "# Part 5\n",
    "# download and load each Asking page \n",
    "    \n",
    "  # create dir if not exists\n",
    "  dirSub2 = \"html/htmlAskingPage\"\n",
    "  ifelse(dir.exists(dirSub2), 1, dir.create(dirSub2) ) \n",
    "  \n",
    "  lenSnipet = length(urlStack)\n",
    "  lsSnipetHtml = list()\n",
    "  askPageCt = 1\n",
    "  for(askPageCt in 1:lenSnipet){\n",
    "    askingUrlNoPunct = gsub(pattern = \"[:/?.&=]\", replacement = \"_\", urlStack[askPageCt])\n",
    "    askingFilePathNoPunct = paste0(\"html/htmlAskingPage/\", askingUrlNoPunct, \".html\")\n",
    "    if(file.exists(askingFilePathNoPunct)){# Use local html file if exists\n",
    "      lsSnipetHtml[[askPageCt]] = read_html(askingFilePathNoPunct) # Load asking page from local\n",
    "    }else{\n",
    "      lsSnipetHtml[[askPageCt]] = read_html(urlStack[askPageCt]) # load asking page from internet\n",
    "      charUrlPageList = as(lsSnipetHtml[[askPageCt]], \"character\")\n",
    "      write(x = charUrlPageList, file = askingFilePathNoPunct )\n",
    "    }\n",
    "    if(askPageCt%%50 == 0 | askPageCt == 1){\n",
    "      Sys.sleep(0.01); print(urlStack[askPageCt])\n",
    "      Sys.sleep(0.01); print(paste0(\"Downloading HTML file \", askPageCt, \" from the net out of \", lenSnipet, \" done\") )\n",
    "    }\n",
    "  }"
   ]
  },
  {
   "cell_type": "code",
   "execution_count": 9,
   "metadata": {
    "collapsed": false
   },
   "outputs": [
    {
     "data": {
      "text/html": [
       "5289"
      ],
      "text/latex": [
       "5289"
      ],
      "text/markdown": [
       "5289"
      ],
      "text/plain": [
       "[1] 5289"
      ]
     },
     "metadata": {},
     "output_type": "display_data"
    }
   ],
   "source": [
    "\n",
    "# ---------\n",
    "# Part 6\n",
    "# find snippets in each of the 500 pages\n",
    "  lsSnippet = lapply(X = lsSnipetHtml, FUN = function(x) html_nodes(x, \"pre\") %>% html_nodes(\"code\")  )\n",
    "  vecSnippet = unlist(lapply(X = lsSnippet, FUN = as.character))\n",
    "  length(vecSnippet) # [1] 5346 snippets in 500 pages\n",
    "  "
   ]
  },
  {
   "cell_type": "code",
   "execution_count": 10,
   "metadata": {
    "collapsed": false
   },
   "outputs": [
    {
     "data": {
      "text/html": [],
      "text/latex": [],
      "text/markdown": [],
      "text/plain": [
       "integer(0)"
      ]
     },
     "metadata": {},
     "output_type": "display_data"
    }
   ],
   "source": [
    "\n",
    "# ---------\n",
    "# Part 7\n",
    "  # limit to valid snippets\n",
    "  iRem = which(  substr(vecSnippet, start = 1, stop = 6) != \"<code>\" )\n",
    "  iRem # none to remove. No action taken.\n",
    "  "
   ]
  },
  {
   "cell_type": "code",
   "execution_count": 11,
   "metadata": {
    "collapsed": true
   },
   "outputs": [],
   "source": [
    " \n",
    "# ---------\n",
    "# Part 8\n",
    "  # remove suffix of the snippets\n",
    "  vecSnippet = gsub(pattern = \"<code>|</code>|\\n\", replacement = \" \", x = vecSnippet) # remove <code> and </code>\n",
    "  vecSnippet = gsub(pattern = \"[^[:alnum:].]\", replacement = \" \", vecSnippet)\n"
   ]
  },
  {
   "cell_type": "code",
   "execution_count": 12,
   "metadata": {
    "collapsed": true
   },
   "outputs": [],
   "source": [
    "\n",
    "# ---------\n",
    "# Part 9\n",
    "  # string split\n",
    "  # find R reserved functions\n",
    "  lsSplitSnippet = strsplit(vecSnippet, \" \")\n",
    "  \n",
    "  # function to find the exact reserved words in the snipet\n",
    "  fun_find_reserved_in_str = function(stringFromSnipet, reservedWords){\n",
    "    iHitReserved = which(reservedWords %in% stringFromSnipet)\n",
    "    return(reservedWords[iHitReserved])\n",
    "  }\n",
    "  lsfoundFunc = lapply(X = lsSplitSnippet, FUN = fun_find_reserved_in_str, reservedWords)\n",
    "  # remove elements with no words\n",
    "  flagRem  = unlist(lapply(X = lsfoundFunc, FUN = function(x) identical(x, character(0)) ))\n",
    "  lsfoundFunc = lsfoundFunc[!flagRem]\n",
    "  "
   ]
  },
  {
   "cell_type": "code",
   "execution_count": 13,
   "metadata": {
    "collapsed": true
   },
   "outputs": [],
   "source": [
    "\n",
    "# ---------\n",
    "# Part 10\n",
    "  # permute and dedupe\n",
    "  # function permute the combination of words. Dedupe the order differences.\n",
    "  fun_permute_dedupe = function(vecFoundFunc){\n",
    "    dfGrid = expand.grid(vecFoundFunc, vecFoundFunc)\n",
    "    dfPerm = dfGrid[which(as.character(dfGrid$Var1) < as.character(dfGrid$Var2) ), ] # limit to younger alphabet < older alphabet\n",
    "    return(dfPerm)\n",
    "  }\n",
    "  dfPerm = lapply(X = lsfoundFunc, FUN = fun_permute_dedupe)\n",
    "  # stack all the perms together\n",
    "  bindPerm = do.call(what = rbind, args = dfPerm)\n",
    "  # count perm\n",
    "  dfCtPerm = as.data.frame(group_by(bindPerm, Var1, Var2)  %>% summarize(freq = n()) )\n",
    "  "
   ]
  },
  {
   "cell_type": "code",
   "execution_count": 14,
   "metadata": {
    "collapsed": false
   },
   "outputs": [
    {
     "data": {
      "text/html": [
       "86"
      ],
      "text/latex": [
       "86"
      ],
      "text/markdown": [
       "86"
      ],
      "text/plain": [
       "[1] 86"
      ]
     },
     "metadata": {},
     "output_type": "display_data"
    },
    {
     "data": {
      "text/html": [
       "<table>\n",
       "<thead><tr><th scope=col>Var1</th><th scope=col>Freq</th></tr></thead>\n",
       "<tbody>\n",
       "\t<tr><td>abs            </td><td> 14            </td></tr>\n",
       "\t<tr><td>addTaskCallback</td><td>  1            </td></tr>\n",
       "\t<tr><td>alist          </td><td>  3            </td></tr>\n",
       "\t<tr><td>all            </td><td>131            </td></tr>\n",
       "\t<tr><td>any            </td><td> 40            </td></tr>\n",
       "\t<tr><td>anyDuplicated  </td><td>  1            </td></tr>\n",
       "</tbody>\n",
       "</table>\n"
      ],
      "text/latex": [
       "\\begin{tabular}{r|ll}\n",
       " Var1 & Freq\\\\\n",
       "\\hline\n",
       "\t abs             &  14            \\\\\n",
       "\t addTaskCallback &   1            \\\\\n",
       "\t alist           &   3            \\\\\n",
       "\t all             & 131            \\\\\n",
       "\t any             &  40            \\\\\n",
       "\t anyDuplicated   &   1            \\\\\n",
       "\\end{tabular}\n"
      ],
      "text/markdown": [
       "\n",
       "Var1 | Freq | \n",
       "|---|---|---|---|---|---|\n",
       "| abs             |  14             | \n",
       "| addTaskCallback |   1             | \n",
       "| alist           |   3             | \n",
       "| all             | 131             | \n",
       "| any             |  40             | \n",
       "| anyDuplicated   |   1             | \n",
       "\n",
       "\n"
      ],
      "text/plain": [
       "  Var1            Freq\n",
       "1 abs              14 \n",
       "2 addTaskCallback   1 \n",
       "3 alist             3 \n",
       "4 all             131 \n",
       "5 any              40 \n",
       "6 anyDuplicated     1 "
      ]
     },
     "metadata": {},
     "output_type": "display_data"
    },
    {
     "data": {
      "image/png": "[encoded data removed]",
      "text/plain": [
       "Plot with title \"\""
      ]
     },
     "metadata": {},
     "output_type": "display_data"
    }
   ],
   "source": [
    "\n",
    "  \n",
    "# ---------\n",
    "# Part 11\n",
    "  # network graph\n",
    "  cutPointNode = 11\n",
    "  dfCtOver2 = dfCtPerm[ dfCtPerm$freq >= cutPointNode, ] # limit to freq over 2\n",
    "  length(unique(c(dfCtOver2$Var1, dfCtOver2$Var2)))\n",
    "  grCtOver2 <- graph.data.frame(dfCtOver2, directed = FALSE)\n",
    "  \n",
    "  # calculate the size of the edge\n",
    "  dfFuncCount = as.data.frame.table(table(unlist(lsfoundFunc)))\n",
    "  head(dfFuncCount)\n",
    "  matchNum = match(V(grCtOver2)$name, dfFuncCount$Var1 )\n",
    "  dfFuncCountCut = dfFuncCount[ matchNum, ]\n",
    "\n",
    "  V(grCtOver2)$size      <- ( dfFuncCountCut$Freq / max(dfFuncCountCut$Freq)) * 8       ## circle size proportional to text size\n",
    "  # for(seedCt in 31:40){ # 19 31 35 36\n",
    "  # set.seed(seedCt)    \n",
    "  set.seed(35)    \n",
    "  plot(grCtOver2, \n",
    "       vertex.label = V(grCtOver2)$name, \n",
    "       vertex.color=\"orange\", # shape color\n",
    "       vertex.frame.color=\"orange\", # border color\n",
    "       vertex.label.cex = 0.4,\n",
    "       vertex.label.color= \"blue\",\n",
    "       edge.width = 0.02 * edge.betweenness(grCtOver2),\n",
    "       edge.color = ifelse(\n",
    "         edge.betweenness(grCtOver2) > quantile(edge.betweenness(grCtOver2))[4], \n",
    "         \"gray40\",\"gray90\") # use light color for marginal connections. Use dark color for the important.\n",
    "  )  \n",
    "  \n",
    "  "
   ]
  },
  {
   "cell_type": "code",
   "execution_count": null,
   "metadata": {
    "collapsed": true
   },
   "outputs": [],
   "source": []
  },
  {
   "cell_type": "code",
   "execution_count": null,
   "metadata": {
    "collapsed": true
   },
   "outputs": [],
   "source": []
  },
  {
   "cell_type": "code",
   "execution_count": null,
   "metadata": {
    "collapsed": true
   },
   "outputs": [],
   "source": []
  }
 ],
 "metadata": {
  "kernelspec": {
   "display_name": "R",
   "language": "R",
   "name": "ir"
  },
  "language_info": {
   "codemirror_mode": "r",
   "file_extension": ".r",
   "mimetype": "text/x-r-source",
   "name": "R",
   "pygments_lexer": "r",
   "version": "3.3.2"
  }
 },
 "nbformat": 4,
 "nbformat_minor": 2
}
